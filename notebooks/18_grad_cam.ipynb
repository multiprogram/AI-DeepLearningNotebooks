
{
  "nbformat": 4,
  "nbformat_minor": 0,
  "metadata": {
    "kernelspec": {
      "display_name": "Python 3",
      "language": "python",
      "name": "python3"
    },
    "language_info": {
      "codemirror_mode": {
        "name": "ipython",
        "version": 3
      },
      "file_extension": ".py",
      "mimetype": "text/x-python",
      "name": "python",
      "nbconvert_exporter": "python",
      "pygments_lexer": "ipython3",
      "version": "3.7.6"
    },
    "colab": {
      "name": "18_grad_cam.ipynb",
      "provenance": [],
      "collapsed_sections": [],
      "toc_visible": true
    },
    "accelerator": "GPU"
  },
  "cells": [
    {
      "cell_type": "markdown",
      "metadata": {
        "id": "vQfhYcVF8KPt"
      },
      "source": [
        "# CNNの可視化 (Gradient-weighted Class Activation Mapping; Grad-CAM)\n",
        "\n",
        "---\n",
        "\n",
        "## 目的\n",
        "Gradient-weighted Class Activation Mapping (Grad-CAM)の仕組みを理解する.\n",
        "\n",
        "Grad-CAMを用いてCIFAR-10データセットに対するネットワークの判断根拠の可視化を行う．\n",
        "\n",
        "## Gradient-weighted Class Activation Mapping (Grad-CAM)\n",
        "Grad-CAM[1]は，逆伝播時の正値の勾配を用いることでCNNを可視化する手法です．\n",
        "Grad-CAMは，逆伝播時の特定のクラスにおける勾配をGlobal Average Pooling (GAP)[2]により空間方向に対する平均値を求め，各特徴マップに対する重みとします．\n",
        "その後，獲得した重みを各特徴マップに重み付けすることでAttention map を獲得します．\n",
        "02_CAM.ipynbで使用したClass Activation Mapping (CAM)[3]は，ネットワークの一部をGAPに置き換える必要があるため，Attention mapを獲得するためにネットワークを学習させる必要があります．一方で，Grad-CAMはネットワークの順伝播時の特徴マップと逆伝播時の勾配を用いてAttention mapを獲得します．そのため，学習済みの様々なネットワークからAttention map を獲得することができます．\n",
        "\n",
        "\n",
        "<img src=\"https://www.dropbox.com/s/x23sm70ftoo7caa/grad-cam.png?dl=1\" width = 100%>\n"
      ]
    },
    {
      "cell_type": "markdown",
      "metadata": {
        "id": "LwB6Pj1BoGRo"
      },
      "source": [
        "## pytorch-gradcamのインストール\n",
        "\n",
        "Grad-CAMを利用するために必要なツールをインストールします．\n",
        "Grad-CAMは，`pytorch-gradcam`というツールをインストールすることで簡単に利用することができます．"
      ]
    },
    {
      "cell_type": "code",
      "metadata": {
        "id": "DmCnC2cqoGpC"
      },
      "source": [
        "!pip install pytorch-gradcam"
      ],
      "execution_count": null,
      "outputs": []
    },
    {
      "cell_type": "markdown",
      "metadata": {
        "id": "V8ehSX6U8KPv"
      },
      "source": [
        "## モジュールのインポート\n",
        "プログラムの実行に必要なモジュールをインポートします．\n",